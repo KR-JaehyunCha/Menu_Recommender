{
 "cells": [
  {
   "cell_type": "code",
   "execution_count": 1,
   "id": "e7c2eb1d-0743-49d8-85dc-0618725cf41f",
   "metadata": {},
   "outputs": [
    {
     "name": "stdout",
     "output_type": "stream",
     "text": [
      "(2231142, 7)\n",
      "<class 'pandas.core.frame.DataFrame'>\n",
      "RangeIndex: 2231142 entries, 0 to 2231141\n",
      "Data columns (total 7 columns):\n",
      " #   Column       Dtype \n",
      "---  ------       ----- \n",
      " 0   title        object\n",
      " 1   ingredients  object\n",
      " 2   directions   object\n",
      " 3   link         object\n",
      " 4   source       object\n",
      " 5   NER          object\n",
      " 6   site         object\n",
      "dtypes: object(7)\n",
      "memory usage: 119.2+ MB\n",
      "None\n",
      "                   title                                        ingredients  \\\n",
      "0    No-Bake Nut Cookies  [\"1 c. firmly packed brown sugar\", \"1/2 c. eva...   \n",
      "1  Jewell Ball'S Chicken  [\"1 small jar chipped beef, cut up\", \"4 boned ...   \n",
      "2            Creamy Corn  [\"2 (16 oz.) pkg. frozen corn\", \"1 (8 oz.) pkg...   \n",
      "3          Chicken Funny  [\"1 large whole chicken\", \"2 (10 1/2 oz.) cans...   \n",
      "4   Reeses Cups(Candy)    [\"1 c. peanut butter\", \"3/4 c. graham cracker ...   \n",
      "\n",
      "                                          directions  \\\n",
      "0  [\"In a heavy 2-quart saucepan, mix brown sugar...   \n",
      "1  [\"Place chipped beef on bottom of baking dish....   \n",
      "2  [\"In a slow cooker, combine all ingredients. C...   \n",
      "3  [\"Boil and debone chicken.\", \"Put bite size pi...   \n",
      "4  [\"Combine first four ingredients and press in ...   \n",
      "\n",
      "                                              link    source  \\\n",
      "0   www.cookbooks.com/Recipe-Details.aspx?id=44874  Gathered   \n",
      "1  www.cookbooks.com/Recipe-Details.aspx?id=699419  Gathered   \n",
      "2   www.cookbooks.com/Recipe-Details.aspx?id=10570  Gathered   \n",
      "3  www.cookbooks.com/Recipe-Details.aspx?id=897570  Gathered   \n",
      "4  www.cookbooks.com/Recipe-Details.aspx?id=659239  Gathered   \n",
      "\n",
      "                                                 NER               site  \n",
      "0  [\"bite size shredded rice biscuits\", \"vanilla\"...  www.cookbooks.com  \n",
      "1  [\"cream of mushroom soup\", \"beef\", \"sour cream...  www.cookbooks.com  \n",
      "2  [\"frozen corn\", \"pepper\", \"cream cheese\", \"gar...  www.cookbooks.com  \n",
      "3  [\"chicken gravy\", \"cream of mushroom soup\", \"c...  www.cookbooks.com  \n",
      "4  [\"graham cracker crumbs\", \"powdered sugar\", \"p...  www.cookbooks.com  \n"
     ]
    }
   ],
   "source": [
    "import pandas as pd\n",
    "\n",
    "# 데이터 파일 경로 설정\n",
    "file_path = './data/raw/recipes_data.csv'\n",
    "\n",
    "# CSV 파일 불러오기\n",
    "df = pd.read_csv(file_path)\n",
    "\n",
    "# 데이터 크기 및 기본 정보 확인\n",
    "print(df.shape)\n",
    "print(df.info())\n",
    "print(df.head())"
   ]
  },
  {
   "cell_type": "code",
   "execution_count": 2,
   "id": "be0555d0-e702-425f-8a1e-9595d34e9dd4",
   "metadata": {},
   "outputs": [
    {
     "name": "stdout",
     "output_type": "stream",
     "text": [
      "결측치 제거 후 데이터 크기: (2231141, 7)\n",
      "중복 제거 후 데이터 크기: (2231141, 7)\n"
     ]
    }
   ],
   "source": [
    "# 결측치 제거\n",
    "df = df.dropna()\n",
    "print(\"결측치 제거 후 데이터 크기:\", df.shape)\n",
    "\n",
    "# 중복 데이터 제거\n",
    "df = df.drop_duplicates()\n",
    "print(\"중복 제거 후 데이터 크기:\", df.shape)\n"
   ]
  },
  {
   "cell_type": "code",
   "execution_count": 3,
   "id": "8b2fd309-b232-49d1-b30f-02c7483d838f",
   "metadata": {},
   "outputs": [],
   "source": [
    "import re\n",
    "\n",
    "# 재료에서 수량 및 단위 제거\n",
    "def normalize_ingredient(ingredient):\n",
    "    ingredient = re.sub(r'\\d+.*?(cup|c\\.|tsp\\.|teaspoon|tbsp\\.|tablespoon|oz|eggs?)', '', ingredient)\n",
    "    ingredient = re.sub(r'\\(.*?\\)', '', ingredient)  # 괄호 안 내용 제거\n",
    "    ingredient = re.sub(r'\\s+', ' ', ingredient).strip()  # 공백 정리\n",
    "    return ingredient.lower()\n"
   ]
  },
  {
   "cell_type": "code",
   "execution_count": 4,
   "id": "39fc4424-54af-4605-8ea6-2fbf13b2073f",
   "metadata": {},
   "outputs": [],
   "source": [
    "import ast  # 문자열을 리스트로 변환\n",
    "\n",
    "# 문자열로 저장된 ingredients를 리스트로 변환\n",
    "df['ingredients'] = df['ingredients'].apply(lambda x: ast.literal_eval(x))\n",
    "\n",
    "# 재료 정규화\n",
    "df['normalized_ingredients'] = df['ingredients'].apply(lambda x: [normalize_ingredient(i) for i in x])\n"
   ]
  },
  {
   "cell_type": "code",
   "execution_count": 5,
   "id": "bf684026-a16f-449e-b461-f495a4262c0a",
   "metadata": {},
   "outputs": [
    {
     "name": "stdout",
     "output_type": "stream",
     "text": [
      "정제된 재료 상위 20개:\n",
      "[('salt', 569371), ('sugar', 413374), ('', 401109), ('milk', 177919), ('flour', 172590), ('water', 168820), ('vanilla', 163027), ('pepper', 133506), ('baking powder', 110011), ('butter', 108714), ('baking soda', 98556), ('olive oil', 88499), ('cinnamon', 88015), ('brown sugar', 80363), ('s sugar', 77422), ('vanilla extract', 67394), ('s olive oil', 67374), ('s all-purpose flour', 64455), ('s water', 64201), ('sour cream', 63860)]\n"
     ]
    }
   ],
   "source": [
    "from collections import Counter\n",
    "\n",
    "# 모든 재료 리스트 합치기\n",
    "all_normalized_ingredients = [item for sublist in df['normalized_ingredients'] for item in sublist]\n",
    "\n",
    "# 재료 카운트\n",
    "normalized_counts = Counter(all_normalized_ingredients)\n",
    "\n",
    "# 상위 20개 재료 출력\n",
    "print(\"정제된 재료 상위 20개:\")\n",
    "print(normalized_counts.most_common(20))"
   ]
  },
  {
   "cell_type": "code",
   "execution_count": 6,
   "id": "88735705-fc7d-431e-8fca-445d29b830f2",
   "metadata": {},
   "outputs": [
    {
     "name": "stdout",
     "output_type": "stream",
     "text": [
      "정제된 재료 상위 20개:\n",
      "[('salt', 616031), ('sugar', 490796), ('water', 233021), ('flour', 223957), ('milk', 214777), ('vanilla', 173227), ('butter', 161043), ('olive oil', 155873), ('baking powder', 144983), ('pepper', 137301), ('all-purpose flour', 128077), ('baking soda', 112808), ('brown sugar', 98458), ('cinnamon', 98041), ('vanilla extract', 86232), ('lemon juice', 75667), ('vegetable oil', 74271), ('sour cream', 71203), ('mayonnaise', 67307), ('oil', 60163)]\n"
     ]
    }
   ],
   "source": [
    "# 빈 문자열 제거 및 's '로 시작하는 재료 정리\n",
    "df['normalized_ingredients'] = df['normalized_ingredients'].apply(\n",
    "    lambda x: [i for i in x if i]  # 빈 문자열 제거\n",
    ")\n",
    "\n",
    "# 's '로 시작하는 재료에서 's ' 제거\n",
    "df['normalized_ingredients'] = df['normalized_ingredients'].apply(\n",
    "    lambda x: [i[2:] if i.startswith(\"s \") else i for i in x]\n",
    ")\n",
    "\n",
    "# 정제된 재료 확인\n",
    "from collections import Counter\n",
    "\n",
    "all_normalized_ingredients = [item for sublist in df['normalized_ingredients'] for item in sublist]\n",
    "normalized_counts = Counter(all_normalized_ingredients)\n",
    "\n",
    "print(\"정제된 재료 상위 20개:\")\n",
    "print(normalized_counts.most_common(20))\n"
   ]
  },
  {
   "cell_type": "code",
   "execution_count": 7,
   "id": "78be8a20-714f-4a09-bdea-411e719265c6",
   "metadata": {},
   "outputs": [
    {
     "name": "stdout",
     "output_type": "stream",
     "text": [
      "전처리된 데이터 저장 완료\n"
     ]
    }
   ],
   "source": [
    "# 전처리된 데이터 저장\n",
    "df.to_csv('./data/processed/processed_recipes_data.csv', index=False)\n",
    "\n",
    "print(\"전처리된 데이터 저장 완료\")"
   ]
  },
  {
   "cell_type": "code",
   "execution_count": null,
   "id": "c95a0557-6beb-4476-a07c-9519f98abda8",
   "metadata": {},
   "outputs": [],
   "source": []
  }
 ],
 "metadata": {
  "kernelspec": {
   "display_name": "Python 3 (ipykernel)",
   "language": "python",
   "name": "python3"
  },
  "language_info": {
   "codemirror_mode": {
    "name": "ipython",
    "version": 3
   },
   "file_extension": ".py",
   "mimetype": "text/x-python",
   "name": "python",
   "nbconvert_exporter": "python",
   "pygments_lexer": "ipython3",
   "version": "3.13.0"
  }
 },
 "nbformat": 4,
 "nbformat_minor": 5
}
